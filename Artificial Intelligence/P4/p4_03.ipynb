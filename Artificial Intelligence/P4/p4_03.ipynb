{
 "cells": [
  {
   "cell_type": "markdown",
   "metadata": {
    "collapsed": true
   },
   "source": [
    "# Práctica 4 de IA"
   ]
  },
  {
   "cell_type": "markdown",
   "metadata": {
    "collapsed": true
   },
   "source": [
    "# 3. Procesamiento de texto y datos no balanceados (4,5 puntos)"
   ]
  },
  {
   "cell_type": "code",
   "execution_count": 8,
   "metadata": {},
   "outputs": [
    {
     "data": {
      "text/html": [
       "<div>\n",
       "<style scoped>\n",
       "    .dataframe tbody tr th:only-of-type {\n",
       "        vertical-align: middle;\n",
       "    }\n",
       "\n",
       "    .dataframe tbody tr th {\n",
       "        vertical-align: top;\n",
       "    }\n",
       "\n",
       "    .dataframe thead th {\n",
       "        text-align: right;\n",
       "    }\n",
       "</style>\n",
       "<table border=\"1\" class=\"dataframe\">\n",
       "  <thead>\n",
       "    <tr style=\"text-align: right;\">\n",
       "      <th></th>\n",
       "      <th>SentenceId</th>\n",
       "      <th>Phrase</th>\n",
       "      <th>Sentiment</th>\n",
       "    </tr>\n",
       "    <tr>\n",
       "      <th>PhraseId</th>\n",
       "      <th></th>\n",
       "      <th></th>\n",
       "      <th></th>\n",
       "    </tr>\n",
       "  </thead>\n",
       "  <tbody>\n",
       "    <tr>\n",
       "      <th>1</th>\n",
       "      <td>1</td>\n",
       "      <td>A series of escapades demonstrating the adage ...</td>\n",
       "      <td>1</td>\n",
       "    </tr>\n",
       "    <tr>\n",
       "      <th>2</th>\n",
       "      <td>1</td>\n",
       "      <td>A series of escapades demonstrating the adage ...</td>\n",
       "      <td>2</td>\n",
       "    </tr>\n",
       "  </tbody>\n",
       "</table>\n",
       "</div>"
      ],
      "text/plain": [
       "          SentenceId                                             Phrase  \\\n",
       "PhraseId                                                                  \n",
       "1                  1  A series of escapades demonstrating the adage ...   \n",
       "2                  1  A series of escapades demonstrating the adage ...   \n",
       "\n",
       "          Sentiment  \n",
       "PhraseId             \n",
       "1                 1  \n",
       "2                 2  "
      ]
     },
     "execution_count": 8,
     "metadata": {},
     "output_type": "execute_result"
    }
   ],
   "source": [
    "import pandas as pd\n",
    "\n",
    "df = pd.read_csv(\"train.tsv\", sep='\\t', index_col=\"PhraseId\")\n",
    "# pd.set_option('display.max_colwidth', None)\n",
    "df.head(2)"
   ]
  },
  {
   "cell_type": "markdown",
   "metadata": {},
   "source": [
    "Este conjunto de datos que usaremos ahora permite aprender el sentimiento del texto a partir de frases etiquetadas.\n",
    "Las etiquetas para los sentimientos son:\n",
    "\n",
    "* 0 - negative\n",
    "* 1 - somewhat negative\n",
    "* 2 - neutral\n",
    "* 3 - somewhat positive\n",
    "* 4 - positive\n",
    "\n",
    "Más información [aquí](https://www.kaggle.com/c/sentiment-analysis-on-movie-reviews).\n",
    "\n",
    "\n",
    "A lo largo de este ejercicio veremos distintas formas de procesar el texto y de equilibrar las clases a aprender."
   ]
  },
  {
   "cell_type": "code",
   "execution_count": 9,
   "metadata": {},
   "outputs": [],
   "source": [
    "from sklearn.model_selection import train_test_split\n",
    "\n",
    "train, test = train_test_split(df[[\"Phrase\", \"Sentiment\"]], random_state=0)\n",
    "X_train = train.Phrase\n",
    "X_test = test.Phrase\n",
    "y_train = train.Sentiment\n",
    "y_test = test.Sentiment"
   ]
  },
  {
   "cell_type": "markdown",
   "metadata": {},
   "source": [
    "**Modelos básicos**"
   ]
  },
  {
   "cell_type": "markdown",
   "metadata": {},
   "source": [
    "Vamos a comenzar con una concatenación (*pipe*) de modelos muy básicos y analizaremos si tienen algún problema."
   ]
  },
  {
   "cell_type": "code",
   "execution_count": 10,
   "metadata": {},
   "outputs": [],
   "source": [
    "from sklearn.feature_extraction.text import CountVectorizer\n",
    "from sklearn.pipeline import make_pipeline\n",
    "from sklearn.tree import DecisionTreeClassifier\n",
    "\n",
    "count_vectorizer = CountVectorizer(max_features=1000)\n",
    "decision_tree = DecisionTreeClassifier(criterion='entropy', max_depth=2)\n",
    "pipe = make_pipeline(count_vectorizer,decision_tree)"
   ]
  },
  {
   "cell_type": "code",
   "execution_count": 11,
   "metadata": {},
   "outputs": [],
   "source": [
    "from sklearn.metrics import accuracy_score\n",
    "\n",
    "def get_accuracy(pipe):\n",
    "    pipe.fit(X_train, y_train)\n",
    "    y_pred = pipe.predict(X_test)\n",
    "    return round(accuracy_score(y_pred, y_test),3)"
   ]
  },
  {
   "cell_type": "code",
   "execution_count": 12,
   "metadata": {},
   "outputs": [
    {
     "data": {
      "text/plain": [
       "0.515"
      ]
     },
     "execution_count": 12,
     "metadata": {},
     "output_type": "execute_result"
    }
   ],
   "source": [
    "get_accuracy(pipe)"
   ]
  },
  {
   "cell_type": "markdown",
   "metadata": {},
   "source": [
    "Veamos qué clases se están prediciendo de verdad"
   ]
  },
  {
   "cell_type": "code",
   "execution_count": 14,
   "metadata": {},
   "outputs": [
    {
     "data": {
      "text/plain": [
       "2    0.51\n",
       "3    0.21\n",
       "1    0.17\n",
       "4    0.06\n",
       "0    0.04\n",
       "Name: Sentiment, dtype: float64"
      ]
     },
     "execution_count": 14,
     "metadata": {},
     "output_type": "execute_result"
    }
   ],
   "source": [
    "# Etiquetas de entrenamiento\n",
    "round(pd.Series(y_train).value_counts(normalize=True),2)"
   ]
  },
  {
   "cell_type": "code",
   "execution_count": 13,
   "metadata": {},
   "outputs": [
    {
     "data": {
      "text/plain": [
       "2    0.97\n",
       "3    0.03\n",
       "dtype: float64"
      ]
     },
     "execution_count": 13,
     "metadata": {},
     "output_type": "execute_result"
    }
   ],
   "source": [
    "# Clases en predicción\n",
    "y_pred = pipe.predict(X_test)\n",
    "round(pd.Series(y_pred).value_counts(normalize=True),2)"
   ]
  },
  {
   "cell_type": "markdown",
   "metadata": {},
   "source": [
    "Es decir: al ser un problema no balanceado, la predicción está claramente sesgada hacia una de las clases.\n",
    "\n",
    "Esto se puede ver también analizando la **matriz de confusión**"
   ]
  },
  {
   "cell_type": "code",
   "execution_count": 15,
   "metadata": {},
   "outputs": [
    {
     "data": {
      "image/png": "[encoded data removed]",
      "text/plain": [
       "<Figure size 720x360 with 2 Axes>"
      ]
     },
     "metadata": {
      "needs_background": "light"
     },
     "output_type": "display_data"
    }
   ],
   "source": [
    "import numpy as np\n",
    "from sklearn.metrics import confusion_matrix\n",
    "import matplotlib.pyplot as plt\n",
    "\n",
    "def plot_confusion_matrix(pipe):\n",
    "    ticks = np.unique(y_test)\n",
    "    labels = [('class '+ str(tick)) for tick in ticks]\n",
    "    y_pred = pipe.predict(X_test)\n",
    "    cm = confusion_matrix(y_test, y_pred)\n",
    "    fig = plt.figure(figsize=(10, 5))\n",
    "    ax = fig.add_subplot(111)\n",
    "    cax = ax.matshow(cm)\n",
    "    plt.title('Confusion matrix')\n",
    "    fig.colorbar(cax)\n",
    "    ax.set_xticks(ticks)\n",
    "    ax.set_xticklabels(labels)\n",
    "    ax.set_yticks(ticks)\n",
    "    ax.set_yticklabels(labels)\n",
    "    plt.xlabel('Predicted')\n",
    "    plt.ylabel('True')\n",
    "    plt.show()\n",
    "\n",
    "plot_confusion_matrix(pipe)"
   ]
  },
  {
   "cell_type": "markdown",
   "metadata": {},
   "source": [
    "## Cambio de modelos y procesamiento de los datos"
   ]
  },
  {
   "cell_type": "markdown",
   "metadata": {},
   "source": [
    "Analiza si algún otro modelo de los vistos en ejercicios anteriores evita este problema de las clases desbalanceadas.\n",
    "\n",
    "Por ejemplo, en la celda siguiente se cambia el árbol de decisión por un KNN."
   ]
  },
  {
   "cell_type": "code",
   "execution_count": 25,
   "metadata": {},
   "outputs": [
    {
     "data": {
      "text/plain": [
       "0.564"
      ]
     },
     "execution_count": 25,
     "metadata": {},
     "output_type": "execute_result"
    }
   ],
   "source": [
    "from sklearn.neighbors import KNeighborsClassifier\n",
    "\n",
    "knn = KNeighborsClassifier(n_neighbors=1)\n",
    "pipe_knn = make_pipeline(count_vectorizer,knn)\n",
    "get_accuracy(pipe_knn)"
   ]
  },
  {
   "cell_type": "code",
   "execution_count": 26,
   "metadata": {},
   "outputs": [
    {
     "data": {
      "image/png": "[encoded data removed]",
      "text/plain": [
       "<Figure size 720x360 with 2 Axes>"
      ]
     },
     "metadata": {
      "needs_background": "light"
     },
     "output_type": "display_data"
    }
   ],
   "source": [
    "plot_confusion_matrix(pipe_knn)"
   ]
  },
  {
   "cell_type": "markdown",
   "metadata": {
    "collapsed": true
   },
   "source": [
    "### Explora varios modelos y responde:"
   ]
  },
  {
   "cell_type": "markdown",
   "metadata": {},
   "source": [
    "* ¿Con qué modelo se obtienen mejores resultados?\n",
    "* ¿Hay algún parámetro de los modelos que sea particularmente efectivo en evitar el desbalanceo?\n",
    "\n",
    "Nota: incluye tantas celdas como precises para enseñar el código que has usado para responder a estas preguntas."
   ]
  },
  {
   "cell_type": "code",
   "execution_count": 16,
   "metadata": {},
   "outputs": [],
   "source": [
    "import numpy as np\n",
    "import matplotlib.pyplot as plt\n",
    "from sklearn.metrics import confusion_matrix\n",
    "\n",
    "from sklearn.neighbors import KNeighborsClassifier\n",
    "from sklearn.tree import DecisionTreeClassifier\n",
    "from sklearn.neural_network import MLPClassifier"
   ]
  },
  {
   "cell_type": "code",
   "execution_count": 17,
   "metadata": {},
   "outputs": [],
   "source": [
    "def multiplot_accuracy_graph(accuracies, params, param, title):\n",
    "    plt.plot(params, accuracies)\n",
    "    plt.title(title)\n",
    "    plt.xlabel(param)\n",
    "    plt.ylabel('Accuracy')\n",
    "    plt.show()"
   ]
  },
  {
   "cell_type": "code",
   "execution_count": 11,
   "metadata": {},
   "outputs": [],
   "source": [
    "pipes = [[],[]]\n",
    "params = [[],[]]\n",
    "accuracies_dt = [[],[]]\n",
    "i = 0\n",
    "for criterion in [\"gini\", \"entropy\"]:\n",
    "    for max_depth in range(1,200,10):\n",
    "        count_vectorizer = CountVectorizer(max_features=1000)\n",
    "        decision_tree = DecisionTreeClassifier(criterion=criterion, max_depth=max_depth)\n",
    "        pipe = make_pipeline(count_vectorizer,decision_tree)\n",
    "        pipe.fit(X_train, y_train)\n",
    "        pipes[i].append(pipe)\n",
    "        params[i].append(max_depth)\n",
    "    accuracies_dt[i] = [get_accuracy(pipe) for pipe in pipes[i]]\n",
    "    i += 1\n"
   ]
  },
  {
   "cell_type": "code",
   "execution_count": 18,
   "metadata": {},
   "outputs": [],
   "source": [
    "# La celda anterior tarda 10 minutos en ejecutar.\n",
    "# Los resultados son los siguientes\n",
    "params = [[],[]]\n",
    "accuracies_dt = [[],[]]\n",
    "accuracies_dt[0] = [0.512, 0.533, 0.547, 0.559, 0.57, 0.576, 0.582, 0.584, 0.588, 0.59, 0.592, 0.592, 0.596, 0.595, 0.596, 0.595, 0.596, 0.594, 0.595, 0.595]\n",
    "accuracies_dt[1] = [0.512, 0.533, 0.546, 0.557, 0.567, 0.573, 0.578, 0.583, 0.586, 0.588, 0.589, 0.59, 0.591, 0.592, 0.593, 0.593, 0.594, 0.594, 0.593, 0.592]\n",
    "params[0] = params[1] = range(1,200,10)"
   ]
  },
  {
   "cell_type": "code",
   "execution_count": 19,
   "metadata": {},
   "outputs": [
    {
     "data": {
      "image/png": "[encoded data removed]",
      "text/plain": [
       "<Figure size 432x288 with 1 Axes>"
      ]
     },
     "metadata": {
      "needs_background": "light"
     },
     "output_type": "display_data"
    },
    {
     "data": {
      "image/png": "[encoded data removed]",
      "text/plain": [
       "<Figure size 432x288 with 1 Axes>"
      ]
     },
     "metadata": {
      "needs_background": "light"
     },
     "output_type": "display_data"
    },
    {
     "name": "stdout",
     "output_type": "stream",
     "text": [
      "121 161\n"
     ]
    }
   ],
   "source": [
    "multiplot_accuracy_graph(accuracies_dt[0], params[0], 'Profundidad máxima', 'Criterio Gini')\n",
    "multiplot_accuracy_graph(accuracies_dt[1], params[1], 'Profundidad máxima', 'Criterio entropy')\n",
    "print(range(1,200,10)[accuracies_dt[0].index(max(accuracies_dt[0]))], range(1,200,10)[accuracies_dt[1].index(max(accuracies_dt[1]))])"
   ]
  },
  {
   "cell_type": "code",
   "execution_count": null,
   "metadata": {},
   "outputs": [],
   "source": [
    "pipes =  [[[], []], [[], []]]\n",
    "params = [[[], []], [[], []]]\n",
    "accuracies_knn = [[[], []], [[], []]]\n",
    "\n",
    "i = 0\n",
    "for weights in [\"uniform\", \"distance\"]:\n",
    "    j = 0\n",
    "    for p in [1, 2]:\n",
    "        for k in [2*i+1 for i in range(25)]:\n",
    "            count_vectorizer = CountVectorizer(max_features=1000)\n",
    "            knn = KNeighborsClassifier(n_neighbors=k, weights=weights, p=p)\n",
    "            pipe = make_pipeline(count_vectorizer,knn)\n",
    "            pipe.fit(X_train, y_train)\n",
    "            pipes[i][j].append(pipe)\n",
    "            params[i][j].append(k)\n",
    "        accuracies_knn[i][j] = [get_accuracy(pipe) for pipe in pipes[i][j]]\n",
    "        j += 1\n",
    "    i += 1"
   ]
  },
  {
   "cell_type": "code",
   "execution_count": 32,
   "metadata": {},
   "outputs": [],
   "source": [
    "# La ejecucion de la celda anterior tarda en torno a 3 horas\n",
    "# Los resultados son los siguientes\n",
    "accuracies_knn = [[[], []], [[], []]]\n",
    "params = [[[], []], [[], []]]\n",
    "accuracies_knn[0][0] = [0.564, 0.562, 0.585, 0.579, 0.574, 0.572, 0.566, 0.559, 0.554, 0.549, 0.544, 0.54, 0.537, 0.535, 0.533, 0.531, 0.53, 0.529, 0.527, 0.526, 0.525, 0.524, 0.524, 0.523, 0.523]\n",
    "accuracies_knn[0][1] = [0.564, 0.562, 0.572, 0.57, 0.566, 0.569, 0.556, 0.56, 0.555, 0.548, 0.545, 0.542, 0.539, 0.537, 0.534, 0.532, 0.531, 0.529, 0.527, 0.527, 0.526, 0.524, 0.524, 0.523, 0.523]\n",
    "accuracies_knn[1][0] = [0.564, 0.575, 0.596, 0.597, 0.599, 0.601, 0.599, 0.597, 0.594, 0.593, 0.591, 0.589, 0.587, 0.586, 0.585, 0.583, 0.582, 0.581, 0.58, 0.578, 0.578, 0.577, 0.576, 0.575, 0.574]\n",
    "accuracies_knn[1][1] = [0.564, 0.573, 0.582, 0.584, 0.585, 0.592, 0.582, 0.589, 0.587, 0.584, 0.583, 0.581, 0.579, 0.578, 0.576, 0.575, 0.573, 0.572, 0.572, 0.571, 0.569, 0.568, 0.568, 0.567, 0.567]\n",
    "params[0][0] = params [0][1] = params[1][0] = params[1][1] = [1, 3, 5, 7, 9, 11, 13, 15, 17, 19, 21, 23, 25, 27, 29, 31, 33, 35, 37, 39, 41, 43, 45, 47, 49]\n"
   ]
  },
  {
   "cell_type": "code",
   "execution_count": 33,
   "metadata": {},
   "outputs": [
    {
     "data": {
      "image/png": "[encoded data removed]",
      "text/plain": [
       "<Figure size 432x288 with 1 Axes>"
      ]
     },
     "metadata": {
      "needs_background": "light"
     },
     "output_type": "display_data"
    },
    {
     "data": {
      "image/png": "[encoded data removed]",
      "text/plain": [
       "<Figure size 432x288 with 1 Axes>"
      ]
     },
     "metadata": {
      "needs_background": "light"
     },
     "output_type": "display_data"
    },
    {
     "data": {
      "image/png": "[encoded data removed]",
      "text/plain": [
       "<Figure size 432x288 with 1 Axes>"
      ]
     },
     "metadata": {
      "needs_background": "light"
     },
     "output_type": "display_data"
    },
    {
     "data": {
      "image/png": "[encoded data removed]",
      "text/plain": [
       "<Figure size 432x288 with 1 Axes>"
      ]
     },
     "metadata": {
      "needs_background": "light"
     },
     "output_type": "display_data"
    }
   ],
   "source": [
    "multiplot_accuracy_graph(accuracies_knn[0][0], params[0][0], 'Numero de vecinos', 'uniform p=1')\n",
    "multiplot_accuracy_graph(accuracies_knn[0][1], params[0][1], 'Numero de vecinos', 'uniform p=2')\n",
    "multiplot_accuracy_graph(accuracies_knn[1][0], params[1][0], 'Numero de vecinos', 'distance p=1')\n",
    "multiplot_accuracy_graph(accuracies_knn[1][1], params[1][1], 'Numero de vecinos', 'distance p=2')"
   ]
  },
  {
   "cell_type": "code",
   "execution_count": null,
   "metadata": {},
   "outputs": [],
   "source": [
    "pipes =  [[], [], [], []]\n",
    "params = [[], [], [], []]\n",
    "accuracies_nnet = [[], [], [], []]\n",
    "\n",
    "i = 0\n",
    "for early_stopping in [True, False]:\n",
    "    count_vectorizer = CountVectorizer(max_features=1000)\n",
    "    nnet = MLPClassifier(early_stopping=early_stopping)\n",
    "    pipe = make_pipeline(count_vectorizer,nnet)\n",
    "    pipe.fit(X_train, y_train)\n",
    "    pipes[i].append(pipe)\n",
    "    params[i].append(early_stopping)\n",
    "\n",
    "i += 1\n",
    "for learning_rate_init in [0.0001, 0.001, 0.01, 0.1, 1]:\n",
    "    count_vectorizer = CountVectorizer(max_features=1000)\n",
    "    nnet = MLPClassifier(learning_rate_init=learning_rate_init)\n",
    "    pipe = make_pipeline(count_vectorizer,nnet)\n",
    "    pipe.fit(X_train, y_train)\n",
    "    pipes[i].append(pipe)\n",
    "    params[i].append(learning_rate_init)\n",
    "\n",
    "i += 1\n",
    "for hidden_layer_sizes in [(2,), (10,), (2,2,), (10,10,), (2,2,2,), (10,10,10,)]:\n",
    "    count_vectorizer = CountVectorizer(max_features=1000)\n",
    "    nnet = MLPClassifier(hidden_layer_sizes=hidden_layer_sizes)\n",
    "    pipe = make_pipeline(count_vectorizer,nnet)\n",
    "    pipe.fit(X_train, y_train)\n",
    "    pipes[i].append(pipe)\n",
    "    params[i].append(hidden_layer_sizes)\n",
    "\n",
    "i += 1\n",
    "for alpha in [0.0001, 0.001, 0.01, 0.1, 1]:\n",
    "    count_vectorizer = CountVectorizer(max_features=1000)\n",
    "    nnet = MLPClassifier(alpha=alpha)\n",
    "    pipe = make_pipeline(count_vectorizer,nnet)\n",
    "    pipe.fit(X_train, y_train)\n",
    "    pipes[i].append(pipe)\n",
    "    params[i].append(alpha)\n",
    "\n",
    "\n",
    "for i in range(4):\n",
    "    accuracies_nnet[i] = [get_accuracy(pipe) for pipe in pipes[i]]"
   ]
  },
  {
   "cell_type": "code",
   "execution_count": 22,
   "metadata": {},
   "outputs": [],
   "source": [
    "# La ejecucion de la celda superior tarda 1h y media\n",
    "# Los resultados son los siguientes\n",
    "params = [[], [], [], []]\n",
    "accuracies_nnet = [[], [], [], []]\n",
    "accuracies_nnet[0] = [0.619, 0.593]\n",
    "accuracies_nnet[1] = [0.621, 0.594, 0.592, 0.576, 0.512]\n",
    "accuracies_nnet[2] = [0.585, 0.604, 0.585, 0.603, 0.579, 0.6]\n",
    "accuracies_nnet[3] = [0.594, 0.597, 0.602, 0.62, 0.552]\n",
    "params[0] = [True, False]\n",
    "params[1] = [0.0001, 0.001, 0.01, 0.1, 1]\n",
    "params[2] = [(2,), (10,), (2, 2,), (10, 10,), (2, 2, 2,), (10, 10, 10,)]\n",
    "params[3] = [0.0001, 0.001, 0.01, 0.1, 1]"
   ]
  },
  {
   "cell_type": "code",
   "execution_count": 23,
   "metadata": {},
   "outputs": [
    {
     "name": "stdout",
     "output_type": "stream",
     "text": [
      "Variando early_stopping...\n",
      "    early_stopping = True 0.619\n",
      "    early_stopping = False 0.593\n"
     ]
    },
    {
     "data": {
      "image/png": "[encoded data removed]",
      "text/plain": [
       "<Figure size 432x288 with 1 Axes>"
      ]
     },
     "metadata": {
      "needs_background": "light"
     },
     "output_type": "display_data"
    },
    {
     "data": {
      "image/png": "[encoded data removed]",
      "text/plain": [
       "<Figure size 432x288 with 1 Axes>"
      ]
     },
     "metadata": {
      "needs_background": "light"
     },
     "output_type": "display_data"
    },
    {
     "data": {
      "image/png": "[encoded data removed]",
      "text/plain": [
       "<Figure size 432x288 with 1 Axes>"
      ]
     },
     "metadata": {
      "needs_background": "light"
     },
     "output_type": "display_data"
    }
   ],
   "source": [
    "from math import log\n",
    "\n",
    "print('Variando early_stopping...')\n",
    "print('    early_stopping = True', accuracies_nnet[0][0])\n",
    "print('    early_stopping = False', accuracies_nnet[0][1])\n",
    "\n",
    "log(0.01, 10)\n",
    "log_params = [log(ac, 10) for ac in params[1]]\n",
    "multiplot_accuracy_graph(accuracies_nnet[1], log_params, 'Base 10 logarithm of learning_rate_init', 'Accuracy in relation to learning_rate_init')\n",
    "\n",
    "y = accuracies_nnet[2]\n",
    "z = range(6)\n",
    "n = params[2]\n",
    "\n",
    "fig, ax = plt.subplots()\n",
    "ax.scatter(z, y, color = \"red\")\n",
    "\n",
    "for i, txt in enumerate(n):\n",
    "    ax.annotate(txt, (z[i], y[i]))\n",
    "\n",
    "plt.title('Accuracy in relation to layer configuration')\n",
    "plt.show()\n",
    "\n",
    "log(0.01, 10)\n",
    "log_params = [log(ac, 10) for ac in params[3]]\n",
    "multiplot_accuracy_graph(accuracies_nnet[3], log_params, 'Base 10 logarithm of alpha', 'Accuracy in relation to alpha')"
   ]
  },
  {
   "cell_type": "markdown",
   "metadata": {},
   "source": [
    "#### **Conclusiones**\n",
    "**Árbol de decisión**\n",
    "\n",
    "Para el análisis de árbol de decisión hemos variados los parámetros de criterio, que puede tomar los valores \"gini\" y \"entropia\", y de profundidad máxima.\n",
    "Una vez calculados los niveles de precisión para cada caso, hemos generado dos gráficas para sendos criterios. Cabe destacar que son prácticamente idénticas.\n",
    "En ambas gráficas, la precisión aumenta con respecto al parámetro max_depth, alcanzando un máximo en 121 - para el criterio Gini - y en 161 - para el criterio entropía -.\n",
    "\n",
    "**Vecinos próximos**\n",
    "\n",
    "Para el estudio del modelo de vecinos próximos hemos decicido variar el tipo de ponderación para la distancia - peso o uniforme -, el parámetro de poder para la métrica de Minkowski y el valor de k - número de vecinos -. Hemos generado cuatro gráficas, para todas las combinaciones conjuntas de los dos primeros parámetros expuestos.\n",
    "\n",
    "A la vista de los resultados, ambas gráficas generadas con el tipo de ponderación de pesos proporcional a la distancia son principalmente decrecientes, aunque presentan variación de la monotonía para los primeros valores de k. Los máximos se alcanzan en torno a k = 5.\n",
    "En el caso de las gráficas con ponderacion de pesos uniforme, el valor mínimo se da para k = 1. Rápidamente crece hasta alcanzar máximos alrededor de k = 11.\n",
    "En ambos casos las gráficas decrecen para k grande. Cabe destacar que el uso de p = 1 da resultados más suaves, mientras que para p = 2, para k ∈ [5,15], los resultados de precisión son manifiestamente más irregulares. Asimismo, los resultados con ponderacion uniforme son peores que los de ponderación en función de la distancia.\n",
    "\n",
    "**Red neuronal**\n",
    "\n",
    "En el caso de la red neuronal, hemos variado los siguientes parámetros:\n",
    "- *early_stopping*: reserva un 10% de los datos para validación y finaliza el entrenamiento cuando la puntuación de validación no mejora a lo largo de las iteraciones.\n",
    "Los resultados son mejores cuando se activa esta funcionalidad - early_stopping = True -, con un valor de 0.619, que se encuentra entre los mejores puntuajes de precisión adquiridos en el análisis de todos los modelos.\n",
    "\n",
    "- *learning_rate_init*: tasa de aprendizaje. Por la naturaleza logarítmica de este parámetro, hemos generado una gráfica logarítmica en el eje x. Es monótona decreciente, tomando su valor máximo para learning_rate_init = 10<sup>-4</sup>.\n",
    "\n",
    "- *hidden_layer_sizes*: configuración de las capas de la red. Los resultados son curiosos en este caso, ya que un mayor número de capas no implica mejores resultados - al revés, resultan ser peores -. No obstante, un mayor número de neuronas por capa implica mejores resultados, obteniendose el valor óptimo, en torno a 0.604, para la configuración de una sola capa de 10 neuronas.\n",
    "\n",
    "- *hidden_layer_sizes*: el valor de penalización o regularización - alpha -. Los resultados muestran que un valor de alpha igual a 1 es poco efectivo, mientras que para 0.1 se alcanzan los mejores resultados, habiendo una diferencia de entre estos valores críticos del 20%.\n",
    "\n",
    "*¿Con qué modelo se obtienen mejores resultados?*\n",
    "\n",
    "Los mejores resultados se obtienen con la red neuronal, alcanzando en torno a 0.2 puntos más de media que los otros dos modelos. La conclusión que sacamos es que los clasificadores con fronteras mas complejas tienen mejores resultados, ya que el contrario conlleva la degeneración de la predicción a la clase mayoritaria.\n",
    "\n",
    "*¿Hay algún parámetro de los modelos que sea particularmente efectivo en evitar el desbalanceo?*\n",
    "\n",
    "En el modelo de árbol de decisión, el parámetro de profundidad máxima tiene mucho impacto sobre las precisiones obtenidas, sobre todo impacto negativo para valores pequeños.\n",
    "En el modelo de red neuronal, la tasa de aprendizaje resulta ser importante para los niveles de precisión."
   ]
  },
  {
   "cell_type": "markdown",
   "metadata": {},
   "source": [
    "\n"
   ]
  },
  {
   "cell_type": "markdown",
   "metadata": {},
   "source": [
    "### Procesamiento de los datos"
   ]
  },
  {
   "cell_type": "markdown",
   "metadata": {},
   "source": [
    "El primer paso que se usó en el *pipe* anterior es muy simple: sólo cuenta cuántas veces aparece cada término. Además, se ha limitado a un máximo de 1000 dimensiones. Prueba otras formas de procesar el texto y discute las diferencias. \n",
    "\n",
    "Como ejemplo, en la celda siguiente se usa un método que considera la frecuencia de los términos ([TfidfVectorizer](https://scikit-learn.org/stable/modules/generated/sklearn.feature_extraction.text.TfidfVectorizer.html)). La documentación muestra que permite varias configuraciones (eliminar acentos, pasar a minúsculas, realizar otras transformaciones más complejas, quitar palabras comunes, etc.)."
   ]
  },
  {
   "cell_type": "code",
   "execution_count": 27,
   "metadata": {},
   "outputs": [
    {
     "name": "stdout",
     "output_type": "stream",
     "text": [
      "0.605\n"
     ]
    },
    {
     "data": {
      "image/png": "[encoded data removed]",
      "text/plain": [
       "<Figure size 720x360 with 2 Axes>"
      ]
     },
     "metadata": {
      "needs_background": "light"
     },
     "output_type": "display_data"
    }
   ],
   "source": [
    "from sklearn.feature_extraction.text import TfidfVectorizer\n",
    "\n",
    "tfidf_vectorizer = TfidfVectorizer()\n",
    "pipe_tfidf = make_pipeline(tfidf_vectorizer, knn)\n",
    "print(get_accuracy(pipe_tfidf))\n",
    "plot_confusion_matrix(pipe_tfidf)"
   ]
  },
  {
   "cell_type": "markdown",
   "metadata": {},
   "source": [
    "Realiza pruebas con varios clasificadores y configuraciones para el procesamiento de texto y contesta:\n",
    "\n",
    "* De acuerdo con tus experimentos, ¿afecta más cambiar el clasificador o cómo se procesa el texto?\n",
    "* ¿Has encontrado algún tipo de procesamiento que siempre mejore los resultados? ¿En qué hipótesis te has basado para probarlo?"
   ]
  },
  {
   "cell_type": "code",
   "execution_count": 52,
   "metadata": {},
   "outputs": [],
   "source": [
    "#analyzer (para word_wb tambien n_gram), max_df, norm, use_idf, smooth_idf, sublinear_tf\n",
    "from sklearn.feature_extraction.text import TfidfVectorizer"
   ]
  },
  {
   "cell_type": "code",
   "execution_count": 53,
   "metadata": {},
   "outputs": [],
   "source": [
    "# Tomamos para comparar los clasificadores que maximizaban arriba:\n",
    "# Estos valores han sido óptimos en el estudio del apartado anterior\n",
    "decision_tree = DecisionTreeClassifier(max_depth=131, criterion=\"gini\")\n",
    "knn = KNeighborsClassifier(n_neighbors=11, weights=\"distance\", p=1)\n",
    "red = MLPClassifier(early_stopping=True, learning_rate_init=0.0001, alpha=0.1, hidden_layer_sizes=(10,))"
   ]
  },
  {
   "cell_type": "code",
   "execution_count": 54,
   "metadata": {},
   "outputs": [
    {
     "name": "stdout",
     "output_type": "stream",
     "text": [
      "max_df tree 0.005 0.572\n",
      "max_df knn 0.005 0.621\n",
      "max_df red 0.005 0.628\n",
      "max_df tree 0.01 0.584\n",
      "max_df knn 0.01 0.626\n",
      "max_df red 0.01 0.639\n",
      "max_df tree 0.02 0.591\n",
      "max_df knn 0.02 0.628\n",
      "max_df red 0.02 0.643\n",
      "max_df tree 0.03 0.592\n",
      "max_df knn 0.03 0.627\n",
      "max_df red 0.03 0.646\n",
      "max_df tree 0.04 0.595\n",
      "max_df knn 0.04 0.628\n",
      "max_df red 0.04 0.648\n",
      "max_df tree 0.05 0.597\n",
      "max_df knn 0.05 0.627\n",
      "max_df red 0.05 0.644\n"
     ]
    }
   ],
   "source": [
    "rango = [0.005, 0.01, 0.02, 0.03, 0.04, 0.05]\n",
    "for df in rango:\n",
    "    vector = TfidfVectorizer(max_df=df)\n",
    "    pipe_tree = make_pipeline(vector, decision_tree)\n",
    "    pipe_knn = make_pipeline(vector, knn)\n",
    "    pipe_red = make_pipeline(vector, red)\n",
    "    print(\"max_df tree\", df, get_accuracy(pipe_tree)) \n",
    "    print(\"max_df knn\", df, get_accuracy(pipe_knn)) \n",
    "    print(\"max_df red\", df, get_accuracy(pipe_red))"
   ]
  },
  {
   "cell_type": "code",
   "execution_count": 55,
   "metadata": {},
   "outputs": [
    {
     "name": "stdout",
     "output_type": "stream",
     "text": [
      "analyzers tree word (3, 3) 0.579\n",
      "analyzers knn word (3, 3) 0.628\n",
      "analyzers red word (3, 3) 0.645\n",
      "analyzers tree char (3, 3) 0.438\n",
      "analyzers knn char (3, 3) 0.596\n",
      "analyzers red char (3, 3) 0.512\n",
      "analyzers tree char_wb n_gram_range: (1, 1) 0.436\n",
      "analyzers knn char_wb n_gram_range: (1, 1) 0.591\n",
      "analyzers red char_wb n_gram_range: (1, 1) 0.512\n",
      "analyzers tree char_wb n_gram_range: (1, 2) 0.487\n",
      "analyzers knn char_wb n_gram_range: (1, 2) 0.641\n",
      "analyzers red char_wb n_gram_range: (1, 2) 0.55\n",
      "analyzers tree char_wb n_gram_range: (2, 2) 0.511\n",
      "analyzers knn char_wb n_gram_range: (2, 2) 0.641\n",
      "analyzers red char_wb n_gram_range: (2, 2) 0.547\n",
      "analyzers tree char_wb n_gram_range: (2, 3) 0.528\n",
      "analyzers knn char_wb n_gram_range: (2, 3) 0.643\n",
      "analyzers red char_wb n_gram_range: (2, 3) 0.61\n",
      "analyzers tree char_wb n_gram_range: (1, 3) 0.518\n",
      "analyzers knn char_wb n_gram_range: (1, 3) 0.642\n",
      "analyzers red char_wb n_gram_range: (1, 3) 0.607\n",
      "analyzers tree char_wb n_gram_range: (3, 3) 0.559\n",
      "analyzers knn char_wb n_gram_range: (3, 3) 0.642\n",
      "analyzers red char_wb n_gram_range: (3, 3) 0.616\n",
      "analyzers tree char_wb n_gram_range: (7, 7) 0.57\n",
      "analyzers knn char_wb n_gram_range: (7, 7) 0.637\n",
      "analyzers red char_wb n_gram_range: (7, 7) 0.65\n"
     ]
    }
   ],
   "source": [
    "analyzers = [\"word\", \"char\", \"char_wb\"]\n",
    "n_grams = [(1,1),(1,2),(2,2),(2,3),(1,3),(3,3),(7,7)]\n",
    "for an in analyzers:\n",
    "    if an == \"char_wb\":\n",
    "        for n_g in n_grams:\n",
    "            vector = TfidfVectorizer(analyzer=an, ngram_range=n_g)\n",
    "            pipe_tree = make_pipeline(vector, decision_tree)\n",
    "            pipe_knn = make_pipeline(vector, knn)\n",
    "            pipe_red = make_pipeline(vector, red)\n",
    "            print(\"analyzers tree\", an, \"n_gram_range:\", n_g, get_accuracy(pipe_tree)) \n",
    "            print(\"analyzers knn\", an, \"n_gram_range:\", n_g, get_accuracy(pipe_knn)) \n",
    "            print(\"analyzers red\", an, \"n_gram_range:\", n_g, get_accuracy(pipe_red)) \n",
    "    else:\n",
    "        vector = TfidfVectorizer(analyzer=an)\n",
    "        pipe_tree = make_pipeline(vector, decision_tree)\n",
    "        pipe_knn = make_pipeline(vector, knn)\n",
    "        pipe_red = make_pipeline(vector, red)\n",
    "        print(\"analyzers tree\", an, n_g, get_accuracy(pipe_tree)) \n",
    "        print(\"analyzers knn\", an, n_g, get_accuracy(pipe_knn)) \n",
    "        print(\"analyzers red\", an, n_g, get_accuracy(pipe_red)) "
   ]
  },
  {
   "cell_type": "code",
   "execution_count": 56,
   "metadata": {},
   "outputs": [
    {
     "name": "stdout",
     "output_type": "stream",
     "text": [
      "norm l1 tree 0.575\n",
      "norm l1 knn 0.606\n",
      "norm l1 red 0.512\n",
      "norm l2 tree 0.579\n",
      "norm l2 knn 0.628\n",
      "norm l2 red 0.648\n"
     ]
    }
   ],
   "source": [
    "normas = [\"l1\", \"l2\"]\n",
    "for norma in normas:\n",
    "    vector = TfidfVectorizer(norm=norma)\n",
    "    pipe_tree = make_pipeline(vector, decision_tree)\n",
    "    pipe_knn = make_pipeline(vector, knn)\n",
    "    pipe_red = make_pipeline(vector, red)\n",
    "    print(\"norm\", norma, \"tree\", get_accuracy(pipe_tree)) \n",
    "    print(\"norm\", norma, \"knn\", get_accuracy(pipe_knn)) \n",
    "    print(\"norm\", norma, \"red\", get_accuracy(pipe_red)) "
   ]
  },
  {
   "cell_type": "code",
   "execution_count": 57,
   "metadata": {},
   "outputs": [
    {
     "name": "stdout",
     "output_type": "stream",
     "text": [
      "use_idf tree True 0.578\n",
      "use_idf knn True 0.628\n",
      "use_idf red True 0.645\n",
      "use_idf tree False 0.582\n",
      "use_idf knn False 0.619\n",
      "use_idf red False 0.642\n"
     ]
    }
   ],
   "source": [
    "booleans = [True, False]\n",
    "for boo in booleans:\n",
    "    vector = TfidfVectorizer(use_idf=boo)\n",
    "    pipe_tree = make_pipeline(vector, decision_tree)\n",
    "    pipe_knn = make_pipeline(vector, knn)\n",
    "    pipe_red = make_pipeline(vector, red)\n",
    "    print(\"use_idf tree\", boo, get_accuracy(pipe_tree)) \n",
    "    print(\"use_idf knn\", boo, get_accuracy(pipe_knn)) \n",
    "    print(\"use_idf red\", boo, get_accuracy(pipe_red)) "
   ]
  },
  {
   "cell_type": "code",
   "execution_count": 58,
   "metadata": {},
   "outputs": [
    {
     "name": "stdout",
     "output_type": "stream",
     "text": [
      "smooth_idf tree True 0.58\n",
      "smooth_idf knn True 0.628\n",
      "smooth_idf red True 0.647\n",
      "smooth_idf tree False 0.581\n",
      "smooth_idf knn False 0.628\n",
      "smooth_idf red False 0.645\n"
     ]
    }
   ],
   "source": [
    "for boo in booleans:\n",
    "    vector = TfidfVectorizer(smooth_idf=boo)\n",
    "    pipe_tree = make_pipeline(vector, decision_tree)\n",
    "    pipe_knn = make_pipeline(vector, knn)\n",
    "    pipe_red = make_pipeline(vector, red)\n",
    "    print(\"smooth_idf tree\", boo, get_accuracy(pipe_tree)) \n",
    "    print(\"smooth_idf knn\", boo, get_accuracy(pipe_knn)) \n",
    "    print(\"smooth_idf red\", boo, get_accuracy(pipe_red)) "
   ]
  },
  {
   "cell_type": "code",
   "execution_count": 59,
   "metadata": {},
   "outputs": [
    {
     "name": "stdout",
     "output_type": "stream",
     "text": [
      "sublinear_tf tree True 0.583\n",
      "sublinear_tf knn True 0.628\n",
      "sublinear_tf red True 0.64\n",
      "sublinear_tf tree False 0.579\n",
      "sublinear_tf knn False 0.628\n",
      "sublinear_tf red False 0.644\n"
     ]
    }
   ],
   "source": [
    "for boo in booleans:\n",
    "    vector = TfidfVectorizer(sublinear_tf=boo)\n",
    "    pipe_tree = make_pipeline(vector, decision_tree)\n",
    "    pipe_knn = make_pipeline(vector, knn)\n",
    "    pipe_red = make_pipeline(vector, red)\n",
    "    print(\"sublinear_tf tree\", boo, get_accuracy(pipe_tree)) \n",
    "    print(\"sublinear_tf knn\", boo, get_accuracy(pipe_knn)) \n",
    "    print(\"sublinear_tf red\", boo, get_accuracy(pipe_red))"
   ]
  },
  {
   "cell_type": "markdown",
   "metadata": {},
   "source": [
    "#### **Conclusiones**\n",
    "En general, se han ejecutado las diferentes mejoras en el procesamiento de texto para el mejor valor obtenido en el estudio del ejercicio anterior.\n",
    "Así pues, si los resultados son mejores a los obtenidos para esos hiperparámetros, concluiremos que el procesado de texto aporta positivamemte - puede o no ser de forma significativa - a la precisión del modelo.\n",
    "\n",
    "Para todos los modelos hemos variado los siguientes parámetros:\n",
    "- max_df: elimina las palabras con frecuencia acumulada extricamente mayor a este parámetro\n",
    "- analyzers: configuración de las unidades a analizar\n",
    "- norm: emplea la norma l1 o l1\n",
    "- use_idf: reponderación de frecuencia\n",
    "- smooth_idf: evita las divisiones por 0, añadiendo 1 a la frecuencia de todos los elementos\n",
    "- sublinear_tf: cambia tf por 1 + log(tf)\n",
    "\n",
    "**Árbol de decisión**\n",
    "Se aprecia que los resultados no son mejores que con el procesado de texto. De hecho, ningñun cambio alcanza la cifra de precisión máxima obtenida, en torno al 0.6, aunque algunos se queden cerca. Al variar el parámetro max_df se observa que cuanto mayor sea este, es decir, cuanto mayor sea la frecuencia necesaria para eliminar palabras, mayor es el aumento obtenido. Los resultados tienen sentido, ya que palabras comunes tienden a ser conectores, preposiciones, artículos, que no aportan sustancialmente a las connotaciones de las clases. Cabe destacar que entre las opciones *analyzer*, la mejor es word. Los últimos cuatro parámetros no parecen tener mucha influencia en los resultados.\n",
    "\n",
    "\n",
    "**Vecinos próximos**\n",
    "Se trata del mejor modelo, y que más se ve beneficiado por el procesamiento del texto.\n",
    "Eliminar las frecuencias de las palabras tiene un efecto manifiestamente positivo respecto de los resultados obtenidos en el ejercicio anterior, aunque todos los valores excepto el primero - es muy pequeño - arrojan los mismos resultados.\n",
    "Este modelo se ve particularmente beneficiado por el uso del analyzer *char_wb*, a diferencia del árbol de decisión. Se trata de las mejores marcas de precisión del estudio.\n",
    "Cabe destacar que es preferible el uso de norma *l2*, mejorando los resultados de precisión en un 2%. El resto de parámetros no muestran evidencia suficiente para inclinarse hacia el uso de uno en específico.\n",
    "\n",
    "\n",
    "**Red neuronal**\n",
    "En este caso, el comportamiento de la variación de max_df es similar al del árbol de decisión. El uso del analyzer *word* muestra los mejores resultados de precisión, siendo solamente superado por *char_wb* con valor de exclusivamente  7-gramas - (7,7) -, aunque este segundo tiene un coste temporal significativamente mayor.\n",
    "El resto de parámetros mejoran los resultados de precisión, aunque indistintamente.\n",
    "\n",
    "\n",
    "*De acuerdo con tus experimentos, ¿afecta más cambiar el clasificador o cómo se procesa el texto?*\n",
    "Cambiar el clasificador puede tener un efecto muy negativo, aunque se observa que en ciertos casos del procesamiento de texto, como puede ser un valor de n para los n-gramas en *char_wb* también pueden empeorar los resultados. El uso de ambas técnicas arroja los mejores resultados, con aumentos comparables de la precisión, por lo que la combinación de ambas técnicas es óptima.\n",
    "\n",
    "*¿Has encontrado algún tipo de procesamiento que siempre mejore los resultados? ¿En qué hipótesis te has basado para probarlo?*\n",
    "La eliminación de frecuencias repetidas mejora siempre los resultados. La hipótesis es sencilla y ya ha sido expuesta: palabras comunes tienden a ser conectores, preposiciones, artículos, que no aportan sustancialmente a las connotaciones de las clases. Además, como hay muchos ejemplos de una clase, y pocos de las otras, quitar las palabras comunes disminuirá en mayor proporción los elementos de la clase mayoritaria.\n",
    "\n"
   ]
  },
  {
   "cell_type": "code",
   "execution_count": null,
   "metadata": {},
   "outputs": [],
   "source": [
    "#Resultados para arboles:\n",
    "#\n",
    "#max_df tree 0.005 0.572\n",
    "#max_df tree 0.01 0.584\n",
    "#max_df tree 0.02 0.591\n",
    "#max_df tree 0.03 0.592\n",
    "#max_df tree 0.04 0.595\n",
    "#max_df tree 0.05 0.597\n",
    "#analyzers tree word (3, 3) 0.579\n",
    "#analyzers tree char (3, 3) 0.438\n",
    "#analyzers tree char_wb n_gram_range: (1, 1) 0.436\n",
    "#analyzers tree char_wb n_gram_range: (1, 2) 0.487\n",
    "#analyzers tree char_wb n_gram_range: (2, 2) 0.511\n",
    "#analyzers tree char_wb n_gram_range: (2, 3) 0.528\n",
    "#analyzers tree char_wb n_gram_range: (1, 3) 0.518\n",
    "#analyzers tree char_wb n_gram_range: (3, 3) 0.559\n",
    "#analyzers tree char_wb n_gram_range: (7, 7) 0.57\n",
    "#norm l1 tree 0.575\n",
    "#norm l2 tree 0.579\n",
    "#use_idf tree True 0.578\n",
    "#use_idf tree False 0.582\n",
    "#smooth_idf tree True 0.58\n",
    "#smooth_idf tree False 0.581\n",
    "#sublinear_tf tree True 0.583\n",
    "#sublinear_tf tree False 0.579"
   ]
  },
  {
   "cell_type": "code",
   "execution_count": null,
   "metadata": {},
   "outputs": [],
   "source": [
    "#Resultados para knn:\n",
    "#\n",
    "#max_df knn 0.005 0.621\n",
    "#max_df knn 0.01 0.626\n",
    "#max_df knn 0.02 0.628\n",
    "#max_df knn 0.03 0.627\n",
    "#max_df knn 0.04 0.628\n",
    "#max_df knn 0.05 0.627\n",
    "#analyzers knn word (3, 3) 0.628\n",
    "#analyzers knn char (3, 3) 0.596\n",
    "#analyzers knn char_wb n_gram_range: (1, 1) 0.591\n",
    "#analyzers knn char_wb n_gram_range: (1, 2) 0.641\n",
    "#analyzers knn char_wb n_gram_range: (2, 2) 0.641\n",
    "#analyzers knn char_wb n_gram_range: (2, 3) 0.643\n",
    "#analyzers knn char_wb n_gram_range: (1, 3) 0.642\n",
    "#analyzers knn char_wb n_gram_range: (3, 3) 0.642\n",
    "#analyzers knn char_wb n_gram_range: (7, 7) 0.637\n",
    "#norm l1 knn 0.606\n",
    "#norm l2 knn 0.628\n",
    "#use_idf knn True 0.628\n",
    "#use_idf knn False 0.619\n",
    "#smooth_idf knn True 0.628\n",
    "#smooth_idf knn False 0.628\n",
    "#sublinear_tf knn True 0.628\n",
    "#sublinear_tf knn False 0.628"
   ]
  },
  {
   "cell_type": "code",
   "execution_count": null,
   "metadata": {},
   "outputs": [],
   "source": [
    "#Resultados para redes:\n",
    "#\n",
    "#max_df red 0.005 0.628\n",
    "#max_df red 0.01 0.639\n",
    "#max_df red 0.02 0.643\n",
    "#max_df red 0.03 0.646\n",
    "#max_df red 0.04 0.648\n",
    "#max_df red 0.05 0.644\n",
    "#analyzers red word (3, 3) 0.645\n",
    "#analyzers red char (3, 3) 0.512\n",
    "#analyzers red char_wb n_gram_range: (1, 1) 0.512\n",
    "#analyzers red char_wb n_gram_range: (1, 2) 0.55\n",
    "#analyzers red char_wb n_gram_range: (2, 2) 0.547\n",
    "#analyzers red char_wb n_gram_range: (2, 3) 0.61\n",
    "#analyzers red char_wb n_gram_range: (1, 3) 0.607\n",
    "#analyzers red char_wb n_gram_range: (3, 3) 0.616\n",
    "#analyzers red char_wb n_gram_range: (7, 7) 0.65\n",
    "#norm l1 red 0.512\n",
    "#norm l2 red 0.648\n",
    "#use_idf red True 0.645\n",
    "#use_idf red False 0.642\n",
    "#smooth_idf red True 0.647\n",
    "#smooth_idf red False 0.645\n",
    "#sublinear_tf red True 0.64\n",
    "#sublinear_tf red False 0.644"
   ]
  }
 ],
 "metadata": {
  "interpreter": {
   "hash": "7d94ed541ca7241e307a157dd5756320d0e27cf31afc52bd2f9c877322ef45e0"
  },
  "kernelspec": {
   "display_name": "Python 3.10.4 64-bit",
   "language": "python",
   "name": "python3"
  },
  "language_info": {
   "codemirror_mode": {
    "name": "ipython",
    "version": 3
   },
   "file_extension": ".py",
   "mimetype": "text/x-python",
   "name": "python",
   "nbconvert_exporter": "python",
   "pygments_lexer": "ipython3",
   "version": "3.10.4"
  }
 },
 "nbformat": 4,
 "nbformat_minor": 1
}
